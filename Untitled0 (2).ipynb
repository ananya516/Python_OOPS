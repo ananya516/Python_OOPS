{
  "nbformat": 4,
  "nbformat_minor": 0,
  "metadata": {
    "colab": {
      "provenance": []
    },
    "kernelspec": {
      "name": "python3",
      "display_name": "Python 3"
    },
    "language_info": {
      "name": "python"
    }
  },
  "cells": [
    {
      "cell_type": "markdown",
      "source": [
        "1) What is Object-Oriented Programming (OOP)?\n",
        "- ​Object-Oriented Programming (OOP) is a programming paradigm centered around the concept of \"objects.\" These objects encapsulate both data (attributes) and behaviors (methods), allowing for modular, reusable, and organized code structures.\n",
        "\n",
        "2) What is a class in OOP?\n",
        "\n",
        "- In Object-Oriented Programming (OOP), a class is a blueprint for creating objects. It defines the structure (attributes) and behavior (methods) that the objects created from it will have. Each object, or instance, of the class can have unique values for its attributes but shares the same methods.\n",
        "\n",
        "3) What is an object in OOP?\n",
        "\n",
        "- In Object-Oriented Programming (OOP), an object is a self-contained unit that combines data and behavior. It is an instance of a class, meaning it is created based on the structure defined by that class.\n",
        "\n",
        "4) What is the difference between abstraction and encapsulation?\n",
        "\n",
        "- Abstraction is about hiding the complex implementation and showing only the essential features, while encapsulation is about hiding the internal data and protecting it from unauthorized access\n",
        "\n",
        "5) What are dunder methods in Python\n",
        "\n",
        "- Dunder methods (short for \"double underscore\" methods) are special methods in Python that start and end with double underscores, like __init__, __str__, __len__, etc.\n",
        "\n",
        "- They’re also called magic methods because they let you define how your object behaves with built-in functions and operators.\n",
        "\n",
        "6 ) Explain the concept of inheritance in OOP\n",
        "\n",
        "- Inheritance is a fundamental concept in OOP that allows one class (the child class) to inherit the properties and behaviors (methods) of another class (the parent class). This allows for code reuse and helps to create a hierarchy of classes.\n",
        "\n",
        "7) What is polymorphism in OOP\n",
        "\n",
        "- Polymorphism is a key concept in OOP that allows objects of different classes to be treated as objects of a common parent class. The word \"polymorphism\" comes from the Greek words poly (meaning many) and morph (meaning form), so it literally means \"many forms.\"\n",
        "\n",
        "8) How is encapsulation achieved in Python?\n",
        "\n",
        "- In Python, encapsulation is achieved through access modifiers. These modifiers control the visibility of attributes and methods in an object. Python doesn't have strict access control like some other languages (e.g., Java or C++), but it provides conventions to simulate encapsulation.\n",
        "\n",
        "9) What is a constructor in Python?\n",
        "\n",
        "- In Python, a constructor is a special method used to initialize newly created objects. It is automatically called when an object of a class is instantiated (created). The constructor is used to set the initial state of the object by initializing the object's attributes.\n",
        "\n",
        "10) What are class and static methods in Python\n",
        "\n",
        "- A class method is a method that takes the class itself (cls) as the first argument and can modify class-level attributes or perform operations related to the class.\n",
        "\n",
        "- A static method is a method that doesn't take self or cls as the first argument and doesn't modify class or instance attributes, but can be used for utility functions that logically belong to the class\n",
        "\n",
        "11) What is method overloading in Python?\n",
        "\n",
        "- Method overloading is the ability to define multiple methods with the same name but with different arguments (i.e., a different number or type of parameters) within a class.\n",
        "\n",
        "12) What is a property decorator in Python?\n",
        "\n",
        "- In Python, the @property decorator is used to define a method as a getter for an attribute. This allows you to access a method like an attribute, but with the ability to execute additional logic behind the scenes.\n",
        "\n",
        "13) Why is polymorphism important in OOP\n",
        "\n",
        "- Polymorphism is one of the core principles of Object-Oriented Programming (OOP). It allows objects of different classes to be treated as objects of a common superclass, typically through a shared interface or method. The term polymorphism itself means \"many shapes,\" referring to the ability of a single entity to take on different forms.\n",
        "\n",
        "15) What is an abstract class in Python?\n",
        "- An abstract class in Python is a class that cannot be instantiated directly. It serves as a blueprint for other classes. The purpose of an abstract class is to define a common interface for its subclasses, ensuring that the subclasses implement certain methods that are defined as abstract in the abstract class.\n",
        "\n",
        "16) What are the advantages of OOP?\n",
        "\n",
        "- Object-Oriented Programming (OOP) offers several advantages, including modularity through reusable classes, encapsulation for data protection, inheritance for code reuse, polymorphism for flexible behavior, abstraction for simplifying complex systems, improved maintainability by isolating changes, better collaboration among developers, and greater scalability for adding new features.\n",
        "\n",
        "17) What is the difference between a class variable and an instance variable?\n",
        "\n",
        "- A class variable is shared by all instances of a class and is defined within the class, while an instance variable is unique to each instance and is defined inside the __init__ method, making it specific to that instance\n",
        "\n",
        "18) What is multiple inheritance in Python?\n",
        "\n",
        "- Multiple inheritance in Python is a feature where a class can inherit attributes and methods from more than one parent class. This allows a subclass to combine functionality from multiple classes, enabling more flexibility and code reuse\n",
        "\n",
        "19) Explain the purpose of ‘’__str__’ and ‘__repr__’ ‘ methods in Python?\n",
        "\n",
        "- The __str__ method is used to define a human-readable, user-friendly string representation of an object, typically for printing, while the __repr__ method is used to provide a detailed, unambiguous representation of the object, often for debugging, and ideally should allow the object to be recreated.\n",
        "\n",
        "20) What is the significance of the ‘super()’ function in Python?\n",
        "\n",
        "- The super() function in Python is used to call a method from a parent or superclass. It allows you to invoke methods or constructors from the parent class in a way that is dynamic and ensures proper method resolution, especially in multiple inheritance scenarios\n",
        "\n",
        "21) What is the significance of the __del__ method in Python?\n",
        "\n",
        "- The __del__ method in Python is a destructor method, used to define behavior when an object is about to be destroyed or garbage collected. It is called when the object's reference count reaches zero, meaning the object is no longer in use and can be safely removed from memory.\n",
        "\n",
        "22) What is the difference between @staticmethod and @classmethod in Python?\n",
        "\n",
        "- The @staticmethod decorator defines a method that doesn't access the instance or class and is used for utility functions, while the @classmethod decorator defines a method that takes the class (cls) as its first argument and is used to access or modify class-level attributes or create factory methods\n",
        "\n",
        "23) How does polymorphism work in Python with inheritance?\n",
        "\n",
        "- Polymorphism in Python works with inheritance by allowing objects of different classes to be treated as objects of a common base class, and it enables method overriding. This means that the same method can behave differently based on the object that is calling it.\n",
        "\n",
        "24) What is method chaining in Python OOP?\n",
        "\n",
        "- Method chaining in Python (and in Object-Oriented Programming in general) refers to the technique of calling multiple methods on the same object in a single line of code, where each method returns the object itself (or another object). This allows methods to be called consecutively on the same object, enhancing readability and reducing the need for intermediate variables\n",
        "\n",
        "25) What is the purpose of the __call__ method in Python??\n",
        "\n",
        "- The __call__ method in Python allows an object to be called like a function. When an instance of a class implements the __call__ method, it makes the object behave like a function, meaning you can invoke the object using parentheses, just as you would a regular function.\n",
        "\n",
        "\n"
      ],
      "metadata": {
        "id": "As1wMATVrczY"
      }
    },
    {
      "cell_type": "code",
      "source": [
        "#1. Create a parent class Animal with a method speak() that prints a generic message. Create a child class Dog that overrides the speak() method to print \"Bark!\"\n",
        "\n",
        "# Parent class Animal\n",
        "class Animal:\n",
        "    def speak(self):\n",
        "        print(\"This is a generic animal sound.\")\n",
        "\n",
        "# Child class Dog inheriting from Animal\n",
        "class Dog(Animal):\n",
        "    def speak(self):\n",
        "        print(\"Bark!\")\n",
        "\n",
        "# Creating an instance of Dog\n",
        "dog = Dog()\n",
        "\n",
        "# Calling the speak method on the Dog instance\n",
        "dog.speak()\n"
      ],
      "metadata": {
        "colab": {
          "base_uri": "https://localhost:8080/"
        },
        "id": "qEl8hwCIwgib",
        "outputId": "5f75c6d8-1065-468e-bc7d-0d3dad2a260e"
      },
      "execution_count": 1,
      "outputs": [
        {
          "output_type": "stream",
          "name": "stdout",
          "text": [
            "Bark!\n"
          ]
        }
      ]
    },
    {
      "cell_type": "code",
      "source": [
        "#2. Write a program to create an abstract class Shape with a method area(). Derive classes Circle and Rectangle from it and implement the area() method in both.\n",
        "\n",
        "from abc import ABC, abstractmethod\n",
        "import math\n",
        "\n",
        "# Abstract class Shape\n",
        "class Shape(ABC):\n",
        "    @abstractmethod\n",
        "    def area(self):\n",
        "        pass\n",
        "\n",
        "# Class Circle derived from Shape\n",
        "class Circle(Shape):\n",
        "    def __init__(self, radius):\n",
        "        self.radius = radius\n",
        "\n",
        "    def area(self):\n",
        "        return math.pi * (self.radius ** 2)\n",
        "\n",
        "# Class Rectangle derived from Shape\n",
        "class Rectangle(Shape):\n",
        "    def __init__(self, width, height):\n",
        "        self.width = width\n",
        "        self.height = height\n",
        "\n",
        "    def area(self):\n",
        "        return self.width * self.height\n",
        "\n",
        "# Creating instances of Circle and Rectangle\n",
        "circle = Circle(5)\n",
        "rectangle = Rectangle(4, 6)\n",
        "\n",
        "# Calling area method\n",
        "print(f\"Area of Circle: {circle.area()}\")\n",
        "print(f\"Area of Rectangle: {rectangle.area()}\")\n"
      ],
      "metadata": {
        "colab": {
          "base_uri": "https://localhost:8080/"
        },
        "id": "DXgk7fK7wyLa",
        "outputId": "fe54bd52-ff92-406f-9fea-14dbca18f6ce"
      },
      "execution_count": 2,
      "outputs": [
        {
          "output_type": "stream",
          "name": "stdout",
          "text": [
            "Area of Circle: 78.53981633974483\n",
            "Area of Rectangle: 24\n"
          ]
        }
      ]
    },
    {
      "cell_type": "code",
      "source": [
        "# 3. Implement a multi-level inheritance scenario where a class Vehicle has an attribute type. Derive a class Car and further derive a class ElectricCar that adds a battery attribute.\n",
        "\n",
        "# Base class Vehicle\n",
        "class Vehicle:\n",
        "    def __init__(self, type):\n",
        "        self.type = type\n",
        "\n",
        "    def display_type(self):\n",
        "        print(f\"This is a {self.type}.\")\n",
        "\n",
        "# Derived class Car from Vehicle\n",
        "class Car(Vehicle):\n",
        "    def __init__(self, type, make, model):\n",
        "        super().__init__(type)  # Calling the parent class constructor\n",
        "        self.make = make\n",
        "        self.model = model\n",
        "\n",
        "    def display_details(self):\n",
        "        print(f\"Car Make: {self.make}, Model: {self.model}\")\n",
        "\n",
        "# Further derived class ElectricCar from Car\n",
        "class ElectricCar(Car):\n",
        "    def __init__(self, type, make, model, battery):\n",
        "        super().__init__(type, make, model)  # Calling the parent class constructor\n",
        "        self.battery = battery\n",
        "\n",
        "    def display_battery(self):\n",
        "        print(f\"Electric Car Battery: {self.battery} kWh\")\n",
        "\n",
        "# Creating an instance of ElectricCar\n",
        "electric_car = ElectricCar(\"Electric Vehicle\", \"Tesla\", \"Model S\", 100)\n",
        "\n",
        "# Displaying information about the electric car\n",
        "electric_car.display_type()\n",
        "electric_car.display_details()\n",
        "electric_car.display_battery()\n",
        "\n"
      ],
      "metadata": {
        "colab": {
          "base_uri": "https://localhost:8080/"
        },
        "id": "NJlbVvKUw7Nz",
        "outputId": "247e246a-63a8-4a03-fd22-543a931d3f4f"
      },
      "execution_count": 4,
      "outputs": [
        {
          "output_type": "stream",
          "name": "stdout",
          "text": [
            "This is a Electric Vehicle.\n",
            "Car Make: Tesla, Model: Model S\n",
            "Electric Car Battery: 100 kWh\n"
          ]
        }
      ]
    },
    {
      "cell_type": "code",
      "source": [
        "# 4. Demonstrate polymorphism by creating a base class Bird with a method fly(). Create two derived classes Sparrow and Penguin that override the fly() method.\n",
        "\n",
        "# Base class Bird\n",
        "class Bird:\n",
        "    def fly(self):\n",
        "        print(\"This bird can fly.\")\n",
        "\n",
        "# Derived class Sparrow\n",
        "class Sparrow(Bird):\n",
        "    def fly(self):\n",
        "        print(\"Sparrow flies by flapping its wings.\")\n",
        "\n",
        "# Derived class Penguin\n",
        "class Penguin(Bird):\n",
        "    def fly(self):\n",
        "        print(\"Penguin cannot fly. It swims instead.\")\n",
        "\n",
        "# Creating instances of Sparrow and Penguin\n",
        "sparrow = Sparrow()\n",
        "penguin = Penguin()\n",
        "\n",
        "# Demonstrating polymorphism\n",
        "birds = [sparrow, penguin]\n",
        "for bird in birds:\n",
        "    bird.fly()  # The fly() method is called dynamically based on the object type\n"
      ],
      "metadata": {
        "colab": {
          "base_uri": "https://localhost:8080/"
        },
        "id": "y41R0HLsxRnV",
        "outputId": "648e509c-264a-439a-99d3-ce4f1f7ead37"
      },
      "execution_count": 5,
      "outputs": [
        {
          "output_type": "stream",
          "name": "stdout",
          "text": [
            "Sparrow flies by flapping its wings.\n",
            "Penguin cannot fly. It swims instead.\n"
          ]
        }
      ]
    },
    {
      "cell_type": "code",
      "source": [
        "#5. Write a program to demonstrate encapsulation by creating a class BankAccount with private attributes balance and methods to deposit, withdraw, and check balance.\n",
        "\n",
        "class BankAccount:\n",
        "    def __init__(self, initial_balance):\n",
        "        # Private attribute (encapsulated)\n",
        "        self._balance = initial_balance\n",
        "\n",
        "    def deposit(self, amount):\n",
        "        \"\"\"Method to deposit money into the account.\"\"\"\n",
        "        if amount > 0:\n",
        "            self._balance += amount\n",
        "            print(f\"Deposited ${amount}. New balance: ${self._balance}\")\n",
        "        else:\n",
        "            print(\"Deposit amount must be positive.\")\n",
        "\n",
        "    def withdraw(self, amount):\n",
        "        \"\"\"Method to withdraw money from the account.\"\"\"\n",
        "        if amount > 0 and amount <= self._balance:\n",
        "            self._balance -= amount\n",
        "            print(f\"Withdrew ${amount}. New balance: ${self._balance}\")\n",
        "        else:\n",
        "            print(\"Insufficient balance or invalid withdrawal amount.\")\n",
        "\n",
        "    def check_balance(self):\n",
        "        \"\"\"Method to check the balance.\"\"\"\n",
        "        print(f\"Current balance: ${self._balance}\")\n",
        "\n",
        "\n",
        "# Creating an instance of BankAccount\n",
        "account = BankAccount(1000)\n",
        "\n",
        "# Depositing money\n",
        "account.deposit(500)\n",
        "\n",
        "# Withdrawing money\n",
        "account.withdraw(200)\n",
        "\n",
        "# Checking balance\n",
        "account.check_balance()\n",
        "\n",
        "# Trying to withdraw an invalid amount\n",
        "account.withdraw(1500)\n"
      ],
      "metadata": {
        "colab": {
          "base_uri": "https://localhost:8080/"
        },
        "id": "e1LOkMWExYib",
        "outputId": "e131ad55-de73-4364-b379-87225d7eb1da"
      },
      "execution_count": 6,
      "outputs": [
        {
          "output_type": "stream",
          "name": "stdout",
          "text": [
            "Deposited $500. New balance: $1500\n",
            "Withdrew $200. New balance: $1300\n",
            "Current balance: $1300\n",
            "Insufficient balance or invalid withdrawal amount.\n"
          ]
        }
      ]
    },
    {
      "cell_type": "code",
      "source": [
        "#6. Demonstrate runtime polymorphism using a method play() in a base class Instrument. Derive classes Guitar and Piano that implement their own version of play().\n",
        "\n",
        "# Base class Instrument\n",
        "class Instrument:\n",
        "    def play(self):\n",
        "        print(\"Playing the instrument.\")\n",
        "\n",
        "# Derived class Guitar\n",
        "class Guitar(Instrument):\n",
        "    def play(self):\n",
        "        print(\"Strumming the guitar.\")\n",
        "\n",
        "# Derived class Piano\n",
        "class Piano(Instrument):\n",
        "    def play(self):\n",
        "        print(\"Playing the piano keys.\")\n",
        "\n",
        "# Creating instances of Guitar and Piano\n",
        "guitar = Guitar()\n",
        "piano = Piano()\n",
        "\n",
        "# Demonstrating runtime polymorphism\n",
        "instruments = [guitar, piano]\n",
        "\n",
        "for instrument in instruments:\n",
        "    instrument.play()  # The appropriate play() method is called based on the object's type\n"
      ],
      "metadata": {
        "colab": {
          "base_uri": "https://localhost:8080/"
        },
        "id": "AZvJWXoMxfu4",
        "outputId": "feb69e73-2ee1-4994-d1ea-52392fb148c8"
      },
      "execution_count": 7,
      "outputs": [
        {
          "output_type": "stream",
          "name": "stdout",
          "text": [
            "Strumming the guitar.\n",
            "Playing the piano keys.\n"
          ]
        }
      ]
    },
    {
      "cell_type": "code",
      "source": [
        "#7. Create a class MathOperations with a class method add_numbers() to add two numbers and a static method subtract_numbers() to subtract two numbers.\n",
        "\n",
        "class MathOperations:\n",
        "    @classmethod\n",
        "    def add_numbers(cls, num1, num2):\n",
        "        \"\"\"Class method to add two numbers.\"\"\"\n",
        "        return num1 + num2\n",
        "\n",
        "    @staticmethod\n",
        "    def subtract_numbers(num1, num2):\n",
        "        \"\"\"Static method to subtract two numbers.\"\"\"\n",
        "        return num1 - num2\n",
        "\n",
        "# Using the class method and static method\n",
        "sum_result = MathOperations.add_numbers(10, 5)       # Class method\n",
        "difference_result = MathOperations.subtract_numbers(10, 5)  # Static method\n",
        "\n",
        "# Displaying the results\n",
        "print(f\"Sum: {sum_result}\")            # Output: Sum: 15\n",
        "print(f\"Difference: {difference_result}\")  # Output: Difference: 5\n"
      ],
      "metadata": {
        "colab": {
          "base_uri": "https://localhost:8080/"
        },
        "id": "jw_NX0U4xn8N",
        "outputId": "d7c0b4e0-67dd-4fa2-e4d3-16c1263760fd"
      },
      "execution_count": 8,
      "outputs": [
        {
          "output_type": "stream",
          "name": "stdout",
          "text": [
            "Sum: 15\n",
            "Difference: 5\n"
          ]
        }
      ]
    },
    {
      "cell_type": "code",
      "source": [
        "# 8. Implement a class Person with a class method to count the total number of persons created.\n",
        "\n",
        "class Person:\n",
        "    # Class variable to keep track of the total count\n",
        "    total_persons = 0\n",
        "\n",
        "    def __init__(self, name, age):\n",
        "        self.name = name\n",
        "        self.age = age\n",
        "        # Increment the total_persons every time a new object is created\n",
        "        Person.total_persons += 1\n",
        "\n",
        "    @classmethod\n",
        "    def count_persons(cls):\n",
        "        \"\"\"Class method to return the total number of persons created.\"\"\"\n",
        "        return cls.total_persons\n",
        "\n",
        "# Creating instances of Person\n",
        "person1 = Person(\"Alice\", 30)\n",
        "person2 = Person(\"Bob\", 25)\n",
        "person3 = Person(\"Charlie\", 35)\n",
        "\n",
        "# Using the class method to count the total persons created\n",
        "print(f\"Total number of persons created: {Person.count_persons()}\")  # Output: Total number of persons created: 3\n"
      ],
      "metadata": {
        "colab": {
          "base_uri": "https://localhost:8080/"
        },
        "id": "iLUyjysryB26",
        "outputId": "621f8b60-3f6b-43bf-8431-833a60368a21"
      },
      "execution_count": 9,
      "outputs": [
        {
          "output_type": "stream",
          "name": "stdout",
          "text": [
            "Total number of persons created: 3\n"
          ]
        }
      ]
    },
    {
      "cell_type": "code",
      "source": [
        "# 9. Write a class Fraction with attributes numerator and denominator. Override the str method to display the fraction as \"numerator/denominator\".\n",
        "class Fraction:\n",
        "    def __init__(self, numerator, denominator):\n",
        "        self.numerator = numerator\n",
        "        self.denominator = denominator\n",
        "\n",
        "    def __str__(self):\n",
        "        return f\"{self.numerator}/{self.denominator}\"\n",
        "\n",
        "# Creating instances of Fraction\n",
        "fraction1 = Fraction(3, 4)\n",
        "fraction2 = Fraction(5, 7)\n",
        "\n",
        "# Displaying the fractions using the __str__ method\n",
        "print(fraction1)  # Output: 3/4\n",
        "print(fraction2)  # Output: 5/7\n"
      ],
      "metadata": {
        "colab": {
          "base_uri": "https://localhost:8080/"
        },
        "id": "DOIbK3sTyJMm",
        "outputId": "f1a8014b-1d65-408d-e8fe-1cb898a89bee"
      },
      "execution_count": 10,
      "outputs": [
        {
          "output_type": "stream",
          "name": "stdout",
          "text": [
            "3/4\n",
            "5/7\n"
          ]
        }
      ]
    },
    {
      "cell_type": "code",
      "source": [
        "#10. Demonstrate operator overloading by creating a class Vector and overriding the add method to add two vectors\n",
        "\n",
        "class Vector:\n",
        "    def __init__(self, x, y):\n",
        "        self.x = x\n",
        "        self.y = y\n",
        "\n",
        "    def __add__(self, other):\n",
        "        \"\"\"Override the + operator to add two vectors.\"\"\"\n",
        "        if isinstance(other, Vector):\n",
        "            return Vector(self.x + other.x, self.y + other.y)\n",
        "        return NotImplemented\n",
        "\n",
        "    def __str__(self):\n",
        "        \"\"\"Return a string representation of the vector.\"\"\"\n",
        "        return f\"({self.x}, {self.y})\"\n",
        "\n",
        "# Creating two Vector instances\n",
        "vector1 = Vector(2, 3)\n",
        "vector2 = Vector(4, 1)\n",
        "\n",
        "# Adding two vectors using the overloaded + operator\n",
        "result = vector1 + vector2\n",
        "\n",
        "# Printing the result\n",
        "print(f\"Result of adding vectors: {result}\")"
      ],
      "metadata": {
        "colab": {
          "base_uri": "https://localhost:8080/"
        },
        "id": "9G_8viMBySiO",
        "outputId": "35058b63-c909-466b-9d51-ae08d6351ccd"
      },
      "execution_count": 11,
      "outputs": [
        {
          "output_type": "stream",
          "name": "stdout",
          "text": [
            "Result of adding vectors: (6, 4)\n"
          ]
        }
      ]
    },
    {
      "cell_type": "code",
      "source": [
        "#11. Create a class Person with attributes name and age. Add a method greet() that prints \"Hello, my name is {name} and I am {age} years old.\"\n",
        "\n",
        "class Person:\n",
        "    def __init__(self, name, age):\n",
        "        self.name = name\n",
        "        self.age = age\n",
        "\n",
        "    def greet(self):\n",
        "        print(f\"Hello, my name is {self.name} and I am {self.age} years old.\")\n",
        "\n",
        "# Creating an instance of Person\n",
        "person1 = Person(\"Alice\", 30)\n",
        "\n",
        "# Calling the greet() method\n",
        "person1.greet()  # Output: Hello, my name is Alice and I am 30 years old.\n"
      ],
      "metadata": {
        "colab": {
          "base_uri": "https://localhost:8080/"
        },
        "id": "AuSXNGuvybMJ",
        "outputId": "51e19f86-6bf2-447f-9389-4702eaf624bb"
      },
      "execution_count": 12,
      "outputs": [
        {
          "output_type": "stream",
          "name": "stdout",
          "text": [
            "Hello, my name is Alice and I am 30 years old.\n"
          ]
        }
      ]
    },
    {
      "cell_type": "code",
      "source": [
        "#12. Implement a class Student with attributes name and grades. Create a method average_grade() to compute the average of the grades.\n",
        "\n",
        "class Student:\n",
        "    def __init__(self, name, grades):\n",
        "        self.name = name\n",
        "        self.grades = grades  # List of grades\n",
        "\n",
        "    def average_grade(self):\n",
        "        \"\"\"Method to calculate and return the average of grades.\"\"\"\n",
        "        if len(self.grades) > 0:\n",
        "            return sum(self.grades) / len(self.grades)\n",
        "        return 0  # Return 0 if there are no grades\n",
        "\n",
        "# Creating an instance of Student\n",
        "student1 = Student(\"Alice\", [90, 85, 88, 92, 87])\n",
        "\n",
        "# Calling the average_grade() method\n",
        "average = student1.average_grade()\n",
        "\n",
        "# Displaying the average grade\n",
        "print(f\"{student1.name}'s average grade is: {average}\")  # Output: Alice's average grade is: 88.4\n"
      ],
      "metadata": {
        "colab": {
          "base_uri": "https://localhost:8080/"
        },
        "id": "RKASnHmVyiSg",
        "outputId": "6dab7893-eba6-4be4-9016-85f158029b7b"
      },
      "execution_count": 13,
      "outputs": [
        {
          "output_type": "stream",
          "name": "stdout",
          "text": [
            "Alice's average grade is: 88.4\n"
          ]
        }
      ]
    },
    {
      "cell_type": "code",
      "source": [
        "#13. Create a class Rectangle with methods set_dimensions() to set the dimensions and area() to calculate the area.\n",
        "\n",
        "class Rectangle:\n",
        "    def __init__(self):\n",
        "        # Initialize dimensions to None initially\n",
        "        self.length = None\n",
        "        self.width = None\n",
        "\n",
        "    def set_dimensions(self, length, width):\n",
        "        \"\"\"Method to set the dimensions of the rectangle.\"\"\"\n",
        "        self.length = length\n",
        "        self.width = width\n",
        "\n",
        "    def area(self):\n",
        "        \"\"\"Method to calculate and return the area of the rectangle.\"\"\"\n",
        "        if self.length and self.width:\n",
        "            return self.length * self.width\n",
        "        return 0  # Return 0 if dimensions are not set\n",
        "\n",
        "# Creating an instance of Rectangle\n",
        "rectangle = Rectangle()\n",
        "\n",
        "# Setting the dimensions of the rectangle\n",
        "rectangle.set_dimensions(5, 3)\n",
        "\n",
        "# Calculating and printing the area\n",
        "print(f\"The area of the rectangle is: {rectangle.area()}\")  # Output: The area of the rectangle is: 15\n"
      ],
      "metadata": {
        "colab": {
          "base_uri": "https://localhost:8080/"
        },
        "id": "op67lHgRypTm",
        "outputId": "ac688324-0ec5-4fdc-c23d-062a45dd1cab"
      },
      "execution_count": 14,
      "outputs": [
        {
          "output_type": "stream",
          "name": "stdout",
          "text": [
            "The area of the rectangle is: 15\n"
          ]
        }
      ]
    },
    {
      "cell_type": "code",
      "source": [
        "#14. Create a class Employee with a method calculate_salary() that computes the salary based on hours worked and hourly rate. Create a derived class Manager that adds a bonus to the salary.\n",
        "\n",
        "class Employee:\n",
        "    def __init__(self, name, hours_worked, hourly_rate):\n",
        "        self.name = name\n",
        "        self.hours_worked = hours_worked\n",
        "        self.hourly_rate = hourly_rate\n",
        "\n",
        "    def calculate_salary(self):\n",
        "        \"\"\"Method to calculate the salary based on hours worked and hourly rate.\"\"\"\n",
        "        return self.hours_worked * self.hourly_rate\n",
        "\n",
        "class Manager(Employee):\n",
        "    def __init__(self, name, hours_worked, hourly_rate, bonus):\n",
        "        # Initialize the parent class (Employee) attributes\n",
        "        super().__init__(name, hours_worked, hourly_rate)\n",
        "        self.bonus = bonus\n",
        "\n",
        "    def calculate_salary(self):\n",
        "        \"\"\"Override the calculate_salary method to include bonus for Manager.\"\"\"\n",
        "        base_salary = super().calculate_salary()  # Get the base salary from Employee class\n",
        "        return base_salary + self.bonus  # Add the bonus to the base salary\n",
        "\n",
        "# Creating an instance of Employee\n",
        "employee = Employee(\"John\", 40, 25)  # 40 hours worked, $25 hourly rate\n",
        "\n",
        "# Creating an instance of Manager\n",
        "manager = Manager(\"Sarah\", 40, 30, 1000)  # 40 hours worked, $30 hourly rate, $1000 bonus\n",
        "\n",
        "# Calculating and displaying the salary for Employee\n",
        "print(f\"Employee {employee.name}'s salary: ${employee.calculate_salary()}\")\n",
        "\n",
        "# Calculating and displaying the salary for Manager\n",
        "print(f\"Manager {manager.name}'s salary (including bonus): ${manager.calculate_salary()}\")\n"
      ],
      "metadata": {
        "colab": {
          "base_uri": "https://localhost:8080/"
        },
        "id": "MCZTw3nHywYR",
        "outputId": "84daac56-275f-4e1a-dc54-12008b06d54b"
      },
      "execution_count": 15,
      "outputs": [
        {
          "output_type": "stream",
          "name": "stdout",
          "text": [
            "Employee John's salary: $1000\n",
            "Manager Sarah's salary (including bonus): $2200\n"
          ]
        }
      ]
    },
    {
      "cell_type": "code",
      "source": [
        "#15. Create a class Product with attributes name, price, and quantity. Implement a method total_price() that calculates the total price of the product.\n",
        "\n",
        "class Product:\n",
        "    def __init__(self, name, price, quantity):\n",
        "        self.name = name\n",
        "        self.price = price\n",
        "        self.quantity = quantity\n",
        "\n",
        "    def total_price(self):\n",
        "        \"\"\"Method to calculate and return the total price of the product.\"\"\"\n",
        "        return self.price * self.quantity\n",
        "\n",
        "# Creating an instance of Product\n",
        "product1 = Product(\"Laptop\", 1000, 5)\n",
        "\n",
        "# Calculating and printing the total price of the product\n",
        "print(f\"Total price of {product1.name}: ${product1.total_price()}\")  # Output: Total price of Laptop: $5000\n"
      ],
      "metadata": {
        "colab": {
          "base_uri": "https://localhost:8080/"
        },
        "id": "qjuGhj3Iy7Gq",
        "outputId": "19da67fb-5732-4fa4-95b4-a9e77e565b72"
      },
      "execution_count": 16,
      "outputs": [
        {
          "output_type": "stream",
          "name": "stdout",
          "text": [
            "Total price of Laptop: $5000\n"
          ]
        }
      ]
    },
    {
      "cell_type": "code",
      "source": [
        "#16. Create a class Animal with an abstract method sound(). Create two derived classes Cow and Sheep that implement the sound() method.\n",
        "\n",
        "from abc import ABC, abstractmethod\n",
        "\n",
        "# Abstract Base Class Animal\n",
        "class Animal(ABC):\n",
        "    @abstractmethod\n",
        "    def sound(self):\n",
        "        \"\"\"Abstract method to define the sound of the animal.\"\"\"\n",
        "        pass\n",
        "\n",
        "# Derived class Cow\n",
        "class Cow(Animal):\n",
        "    def sound(self):\n",
        "        return \"Moo\"\n",
        "\n",
        "# Derived class Sheep\n",
        "class Sheep(Animal):\n",
        "    def sound(self):\n",
        "        return \"Baa\"\n",
        "\n",
        "# Creating instances of Cow and Sheep\n",
        "cow = Cow()\n",
        "sheep = Sheep()\n",
        "\n",
        "# Calling the sound() method for both animals\n",
        "print(f\"The cow says: {cow.sound()}\")  # Output: The cow says: Moo\n",
        "print(f\"The sheep says: {sheep.sound()}\")  # Output: The sheep says: Baa\n"
      ],
      "metadata": {
        "colab": {
          "base_uri": "https://localhost:8080/"
        },
        "id": "2JbcWJ30zDZ_",
        "outputId": "3142bcc8-fc1d-438d-9435-98236de1a751"
      },
      "execution_count": 17,
      "outputs": [
        {
          "output_type": "stream",
          "name": "stdout",
          "text": [
            "The cow says: Moo\n",
            "The sheep says: Baa\n"
          ]
        }
      ]
    },
    {
      "cell_type": "code",
      "source": [
        "#17. Create a class Book with attributes title, author, and year_published. Add a method get_book_info() that returns a formatted string with the book's details.\n",
        "\n",
        "class Book:\n",
        "    def __init__(self, title, author, year_published):\n",
        "        self.title = title\n",
        "        self.author = author\n",
        "        self.year_published = year_published\n",
        "\n",
        "    def get_book_info(self):\n",
        "        \"\"\"Method to return a formatted string with the book's details.\"\"\"\n",
        "        return f\"Title: {self.title}\\nAuthor: {self.author}\\nYear Published: {self.year_published}\"\n",
        "\n",
        "# Creating an instance of Book\n",
        "book1 = Book(\"1984\", \"George Orwell\", 1949)\n",
        "\n",
        "# Getting and displaying the book's information\n",
        "print(book1.get_book_info())\n"
      ],
      "metadata": {
        "colab": {
          "base_uri": "https://localhost:8080/"
        },
        "id": "5TTXaWBNzIku",
        "outputId": "9ab3f0cb-a44e-494e-d388-0bb24ad37e2d"
      },
      "execution_count": 18,
      "outputs": [
        {
          "output_type": "stream",
          "name": "stdout",
          "text": [
            "Title: 1984\n",
            "Author: George Orwell\n",
            "Year Published: 1949\n"
          ]
        }
      ]
    },
    {
      "cell_type": "code",
      "source": [
        "#18. Create a class House with attributes address and price. Create a derived class Mansion that adds an attribute number_of_rooms.\n",
        "\n",
        "class House:\n",
        "    def __init__(self, address, price):\n",
        "        self.address = address\n",
        "        self.price = price\n",
        "\n",
        "    def get_info(self):\n",
        "        \"\"\"Method to return the basic details of the house.\"\"\"\n",
        "        return f\"Address: {self.address}\\nPrice: ${self.price}\"\n",
        "\n",
        "# Derived class Mansion\n",
        "class Mansion(House):\n",
        "    def __init__(self, address, price, number_of_rooms):\n",
        "        # Initialize the parent class (House) attributes\n",
        "        super().__init__(address, price)\n",
        "        self.number_of_rooms = number_of_rooms\n",
        "\n",
        "    def get_info(self):\n",
        "        \"\"\"Override the get_info method to include number of rooms.\"\"\"\n",
        "        basic_info = super().get_info()  # Get the basic house info\n",
        "        return f\"{basic_info}\\nNumber of Rooms: {self.number_of_rooms}\"\n",
        "\n",
        "# Creating an instance of House\n",
        "house1 = House(\"123 Main St\", 250000)\n",
        "\n",
        "# Creating an instance of Mansion\n",
        "mansion1 = Mansion(\"456 Lux Ave\", 5000000, 15)\n",
        "\n",
        "# Displaying the house information\n",
        "print(\"House Details:\\n\", house1.get_info())\n",
        "\n",
        "# Displaying the mansion information\n",
        "print(\"\\nMansion Details:\\n\", mansion1.get_info())\n"
      ],
      "metadata": {
        "colab": {
          "base_uri": "https://localhost:8080/"
        },
        "id": "5a5W0RPIzOWT",
        "outputId": "a8938c57-29bc-40fc-aae9-24613f47386b"
      },
      "execution_count": 19,
      "outputs": [
        {
          "output_type": "stream",
          "name": "stdout",
          "text": [
            "House Details:\n",
            " Address: 123 Main St\n",
            "Price: $250000\n",
            "\n",
            "Mansion Details:\n",
            " Address: 456 Lux Ave\n",
            "Price: $5000000\n",
            "Number of Rooms: 15\n"
          ]
        }
      ]
    }
  ]
}